{
  "nbformat": 4,
  "nbformat_minor": 0,
  "metadata": {
    "colab": {
      "provenance": [],
      "gpuType": "T4"
    },
    "kernelspec": {
      "name": "python3",
      "display_name": "Python 3"
    },
    "language_info": {
      "name": "python"
    },
    "accelerator": "GPU"
  },
  "cells": [
    {
      "cell_type": "markdown",
      "source": [
        "# **YOLOv8 model**"
      ],
      "metadata": {
        "id": "997oSdX0gksd"
      }
    },
    {
      "cell_type": "markdown",
      "source": [
        "Install libraries and import"
      ],
      "metadata": {
        "id": "mcOuyHbVgYPl"
      }
    },
    {
      "cell_type": "code",
      "source": [
        "# Pip install method (recommended)\n",
        "\n",
        "!pip install ultralytics==8.2.103 -q\n",
        "\n",
        "from IPython import display\n",
        "display.clear_output()\n",
        "\n",
        "import ultralytics\n",
        "ultralytics.checks()"
      ],
      "metadata": {
        "colab": {
          "base_uri": "https://localhost:8080/"
        },
        "id": "aRid1WrSUbgg",
        "outputId": "49010af2-9223-4ec5-9bac-971e71043337"
      },
      "execution_count": null,
      "outputs": [
        {
          "output_type": "stream",
          "name": "stdout",
          "text": [
            "Ultralytics YOLOv8.2.103 🚀 Python-3.11.12 torch-2.6.0+cu124 CUDA:0 (Tesla T4, 15095MiB)\n",
            "Setup complete ✅ (2 CPUs, 12.7 GB RAM, 41.4/112.6 GB disk)\n"
          ]
        }
      ]
    },
    {
      "cell_type": "code",
      "source": [
        "from ultralytics import YOLO\n",
        "\n",
        "from IPython.display import display, Image"
      ],
      "metadata": {
        "id": "SX6DKtYqUeH2"
      },
      "execution_count": null,
      "outputs": []
    },
    {
      "cell_type": "markdown",
      "source": [
        "Import dataset from Roboflow"
      ],
      "metadata": {
        "id": "7VTI8nWDgiPl"
      }
    },
    {
      "cell_type": "code",
      "source": [
        "!pip install roboflow==1.1.48 --quiet\n",
        "\n",
        "import roboflow\n",
        "\n",
        "roboflow.login()\n",
        "\n",
        "from roboflow import Roboflow\n",
        "rf = Roboflow(api_key=\"hrBUUZBmlpIg1PWziWzX\")\n",
        "project = rf.workspace(\"segmentation-etub2\").project(\"final-fire-dataset\")\n",
        "version = project.version(2)\n",
        "dataset = version.download(\"yolov8\")"
      ],
      "metadata": {
        "colab": {
          "base_uri": "https://localhost:8080/"
        },
        "id": "dGz-ISVDUfPO",
        "outputId": "d86d2122-5788-441b-fd76-151d2f420b4d"
      },
      "execution_count": null,
      "outputs": [
        {
          "output_type": "stream",
          "name": "stdout",
          "text": [
            "\u001b[?25l   \u001b[90m━━━━━━━━━━━━━━━━━━━━━━━━━━━━━━━━━━━━━━━━\u001b[0m \u001b[32m0.0/80.3 kB\u001b[0m \u001b[31m?\u001b[0m eta \u001b[36m-:--:--\u001b[0m\r\u001b[2K   \u001b[90m━━━━━━━━━━━━━━━━━━━━━━━━━━━━━━━━━━━━━━━━\u001b[0m \u001b[32m80.3/80.3 kB\u001b[0m \u001b[31m6.0 MB/s\u001b[0m eta \u001b[36m0:00:00\u001b[0m\n",
            "\u001b[2K   \u001b[90m━━━━━━━━━━━━━━━━━━━━━━━━━━━━━━━━━━━━━━━━\u001b[0m \u001b[32m66.8/66.8 kB\u001b[0m \u001b[31m6.7 MB/s\u001b[0m eta \u001b[36m0:00:00\u001b[0m\n",
            "\u001b[2K   \u001b[90m━━━━━━━━━━━━━━━━━━━━━━━━━━━━━━━━━━━━━━━━\u001b[0m \u001b[32m49.9/49.9 MB\u001b[0m \u001b[31m13.1 MB/s\u001b[0m eta \u001b[36m0:00:00\u001b[0m\n",
            "visit https://app.roboflow.com/auth-cli to get your authentication token.\n",
            "Paste the authentication token here: ··········\n",
            "loading Roboflow workspace...\n",
            "loading Roboflow project...\n"
          ]
        },
        {
          "output_type": "stream",
          "name": "stderr",
          "text": [
            "Downloading Dataset Version Zip in final-fire-dataset-2 to yolov8:: 100%|██████████| 52220/52220 [00:04<00:00, 11838.03it/s]"
          ]
        },
        {
          "output_type": "stream",
          "name": "stdout",
          "text": [
            "\n"
          ]
        },
        {
          "output_type": "stream",
          "name": "stderr",
          "text": [
            "\n",
            "Extracting Dataset Version Zip to final-fire-dataset-2 in yolov8:: 100%|██████████| 7180/7180 [00:01<00:00, 7085.85it/s]\n"
          ]
        }
      ]
    },
    {
      "cell_type": "markdown",
      "source": [
        "Train YOLOv8 model with 25 epochs"
      ],
      "metadata": {
        "id": "wybd2EJqgorc"
      }
    },
    {
      "cell_type": "code",
      "source": [
        "!yolo task=segment mode=train model=yolov8s-seg.pt data={dataset.location}/data.yaml epochs=25 imgsz=320"
      ],
      "metadata": {
        "colab": {
          "base_uri": "https://localhost:8080/"
        },
        "id": "7mZQ044MUt3f",
        "outputId": "b4cc8f7f-fdc4-43e8-b66a-6b553bff9d29"
      },
      "execution_count": null,
      "outputs": [
        {
          "output_type": "stream",
          "name": "stdout",
          "text": [
            "Downloading https://github.com/ultralytics/assets/releases/download/v8.2.0/yolov8s-seg.pt to 'yolov8s-seg.pt'...\n",
            "100% 22.8M/22.8M [00:00<00:00, 45.4MB/s]\n",
            "New https://pypi.org/project/ultralytics/8.3.138 available 😃 Update with 'pip install -U ultralytics'\n",
            "Ultralytics YOLOv8.2.103 🚀 Python-3.11.12 torch-2.6.0+cu124 CUDA:0 (Tesla T4, 15095MiB)\n",
            "\u001b[34m\u001b[1mengine/trainer: \u001b[0mtask=segment, mode=train, model=yolov8s-seg.pt, data=/content/final-fire-dataset-2/data.yaml, epochs=25, time=None, patience=100, batch=16, imgsz=320, save=True, save_period=-1, cache=False, device=None, workers=8, project=None, name=train, exist_ok=False, pretrained=True, optimizer=auto, verbose=True, seed=0, deterministic=True, single_cls=False, rect=False, cos_lr=False, close_mosaic=10, resume=False, amp=True, fraction=1.0, profile=False, freeze=None, multi_scale=False, overlap_mask=True, mask_ratio=4, dropout=0.0, val=True, split=val, save_json=False, save_hybrid=False, conf=None, iou=0.7, max_det=300, half=False, dnn=False, plots=True, source=None, vid_stride=1, stream_buffer=False, visualize=False, augment=False, agnostic_nms=False, classes=None, retina_masks=False, embed=None, show=False, save_frames=False, save_txt=False, save_conf=False, save_crop=False, show_labels=True, show_conf=True, show_boxes=True, line_width=None, format=torchscript, keras=False, optimize=False, int8=False, dynamic=False, simplify=True, opset=None, workspace=4, nms=False, lr0=0.01, lrf=0.01, momentum=0.937, weight_decay=0.0005, warmup_epochs=3.0, warmup_momentum=0.8, warmup_bias_lr=0.1, box=7.5, cls=0.5, dfl=1.5, pose=12.0, kobj=1.0, label_smoothing=0.0, nbs=64, hsv_h=0.015, hsv_s=0.7, hsv_v=0.4, degrees=0.0, translate=0.1, scale=0.5, shear=0.0, perspective=0.0, flipud=0.0, fliplr=0.5, bgr=0.0, mosaic=1.0, mixup=0.0, copy_paste=0.0, auto_augment=randaugment, erasing=0.4, crop_fraction=1.0, cfg=None, tracker=botsort.yaml, save_dir=runs/segment/train\n",
            "Downloading https://ultralytics.com/assets/Arial.ttf to '/root/.config/Ultralytics/Arial.ttf'...\n",
            "100% 755k/755k [00:00<00:00, 120MB/s]\n",
            "WARNING: All log messages before absl::InitializeLog() is called are written to STDERR\n",
            "E0000 00:00:1747565248.404387    1874 cuda_dnn.cc:8310] Unable to register cuDNN factory: Attempting to register factory for plugin cuDNN when one has already been registered\n",
            "E0000 00:00:1747565248.494337    1874 cuda_blas.cc:1418] Unable to register cuBLAS factory: Attempting to register factory for plugin cuBLAS when one has already been registered\n",
            "Overriding model.yaml nc=80 with nc=5\n",
            "\n",
            "                   from  n    params  module                                       arguments                     \n",
            "  0                  -1  1       928  ultralytics.nn.modules.conv.Conv             [3, 32, 3, 2]                 \n",
            "  1                  -1  1     18560  ultralytics.nn.modules.conv.Conv             [32, 64, 3, 2]                \n",
            "  2                  -1  1     29056  ultralytics.nn.modules.block.C2f             [64, 64, 1, True]             \n",
            "  3                  -1  1     73984  ultralytics.nn.modules.conv.Conv             [64, 128, 3, 2]               \n",
            "  4                  -1  2    197632  ultralytics.nn.modules.block.C2f             [128, 128, 2, True]           \n",
            "  5                  -1  1    295424  ultralytics.nn.modules.conv.Conv             [128, 256, 3, 2]              \n",
            "  6                  -1  2    788480  ultralytics.nn.modules.block.C2f             [256, 256, 2, True]           \n",
            "  7                  -1  1   1180672  ultralytics.nn.modules.conv.Conv             [256, 512, 3, 2]              \n",
            "  8                  -1  1   1838080  ultralytics.nn.modules.block.C2f             [512, 512, 1, True]           \n",
            "  9                  -1  1    656896  ultralytics.nn.modules.block.SPPF            [512, 512, 5]                 \n",
            " 10                  -1  1         0  torch.nn.modules.upsampling.Upsample         [None, 2, 'nearest']          \n",
            " 11             [-1, 6]  1         0  ultralytics.nn.modules.conv.Concat           [1]                           \n",
            " 12                  -1  1    591360  ultralytics.nn.modules.block.C2f             [768, 256, 1]                 \n",
            " 13                  -1  1         0  torch.nn.modules.upsampling.Upsample         [None, 2, 'nearest']          \n",
            " 14             [-1, 4]  1         0  ultralytics.nn.modules.conv.Concat           [1]                           \n",
            " 15                  -1  1    148224  ultralytics.nn.modules.block.C2f             [384, 128, 1]                 \n",
            " 16                  -1  1    147712  ultralytics.nn.modules.conv.Conv             [128, 128, 3, 2]              \n",
            " 17            [-1, 12]  1         0  ultralytics.nn.modules.conv.Concat           [1]                           \n",
            " 18                  -1  1    493056  ultralytics.nn.modules.block.C2f             [384, 256, 1]                 \n",
            " 19                  -1  1    590336  ultralytics.nn.modules.conv.Conv             [256, 256, 3, 2]              \n",
            " 20             [-1, 9]  1         0  ultralytics.nn.modules.conv.Concat           [1]                           \n",
            " 21                  -1  1   1969152  ultralytics.nn.modules.block.C2f             [768, 512, 1]                 \n",
            " 22        [15, 18, 21]  1   2772479  ultralytics.nn.modules.head.Segment          [5, 32, 128, [128, 256, 512]] \n",
            "YOLOv8s-seg summary: 261 layers, 11,792,031 parameters, 11,792,015 gradients, 42.7 GFLOPs\n",
            "\n",
            "Transferred 411/417 items from pretrained weights\n",
            "\u001b[34m\u001b[1mTensorBoard: \u001b[0mStart with 'tensorboard --logdir runs/segment/train', view at http://localhost:6006/\n",
            "Freezing layer 'model.22.dfl.conv.weight'\n",
            "\u001b[34m\u001b[1mAMP: \u001b[0mrunning Automatic Mixed Precision (AMP) checks with YOLOv8n...\n",
            "Downloading https://github.com/ultralytics/assets/releases/download/v8.2.0/yolov8n.pt to 'yolov8n.pt'...\n",
            "100% 6.25M/6.25M [00:00<00:00, 254MB/s]\n",
            "\u001b[34m\u001b[1mAMP: \u001b[0mchecks passed ✅\n",
            "\u001b[34m\u001b[1mtrain: \u001b[0mScanning /content/final-fire-dataset-2/train/labels... 2509 images, 6 backgrounds, 0 corrupt: 100% 2509/2509 [00:01<00:00, 1956.77it/s]\n",
            "\u001b[34m\u001b[1mtrain: \u001b[0mNew cache created: /content/final-fire-dataset-2/train/labels.cache\n",
            "/usr/local/lib/python3.11/dist-packages/albumentations/__init__.py:28: UserWarning: A new version of Albumentations is available: '2.0.7' (you have '2.0.6'). Upgrade using: pip install -U albumentations. To disable automatic update checks, set the environment variable NO_ALBUMENTATIONS_UPDATE to 1.\n",
            "  check_for_updates()\n",
            "/usr/local/lib/python3.11/dist-packages/ultralytics/data/augment.py:1837: UserWarning: Argument(s) 'quality_lower' are not valid for transform ImageCompression\n",
            "  A.ImageCompression(quality_lower=75, p=0.0),\n",
            "\u001b[34m\u001b[1malbumentations: \u001b[0mBlur(p=0.01, blur_limit=(3, 7)), MedianBlur(p=0.01, blur_limit=(3, 7)), ToGray(p=0.01, method='weighted_average', num_output_channels=3), CLAHE(p=0.01, clip_limit=(1.0, 4.0), tile_grid_size=(8, 8))\n",
            "\u001b[34m\u001b[1mval: \u001b[0mScanning /content/final-fire-dataset-2/valid/labels... 717 images, 4 backgrounds, 0 corrupt: 100% 717/717 [00:00<00:00, 862.09it/s]\n",
            "\u001b[34m\u001b[1mval: \u001b[0mNew cache created: /content/final-fire-dataset-2/valid/labels.cache\n",
            "Plotting labels to runs/segment/train/labels.jpg... \n",
            "\u001b[34m\u001b[1moptimizer:\u001b[0m 'optimizer=auto' found, ignoring 'lr0=0.01' and 'momentum=0.937' and determining best 'optimizer', 'lr0' and 'momentum' automatically... \n",
            "\u001b[34m\u001b[1moptimizer:\u001b[0m AdamW(lr=0.001111, momentum=0.9) with parameter groups 66 weight(decay=0.0), 77 weight(decay=0.0005), 76 bias(decay=0.0)\n",
            "\u001b[34m\u001b[1mTensorBoard: \u001b[0mmodel graph visualization added ✅\n",
            "Image sizes 320 train, 320 val\n",
            "Using 2 dataloader workers\n",
            "Logging results to \u001b[1mruns/segment/train\u001b[0m\n",
            "Starting training for 25 epochs...\n",
            "\n",
            "      Epoch    GPU_mem   box_loss   seg_loss   cls_loss   dfl_loss  Instances       Size\n",
            "       1/25      1.58G      1.264      2.602      2.568       1.32         36        320: 100% 157/157 [00:36<00:00,  4.24it/s]\n",
            "                 Class     Images  Instances      Box(P          R      mAP50  mAP50-95)     Mask(P          R      mAP50  mAP50-95): 100% 23/23 [00:06<00:00,  3.77it/s]\n",
            "                   all        717       1013      0.245      0.275      0.167     0.0861       0.24      0.266      0.154     0.0708\n",
            "\n",
            "      Epoch    GPU_mem   box_loss   seg_loss   cls_loss   dfl_loss  Instances       Size\n",
            "       2/25      1.49G      1.349      2.503      2.209      1.343         41        320: 100% 157/157 [00:32<00:00,  4.90it/s]\n",
            "                 Class     Images  Instances      Box(P          R      mAP50  mAP50-95)     Mask(P          R      mAP50  mAP50-95): 100% 23/23 [00:06<00:00,  3.78it/s]\n",
            "                   all        717       1013       0.19      0.317      0.169      0.083      0.188      0.316      0.164     0.0764\n",
            "\n",
            "      Epoch    GPU_mem   box_loss   seg_loss   cls_loss   dfl_loss  Instances       Size\n",
            "       3/25       1.5G      1.377      2.514      2.186      1.349         47        320: 100% 157/157 [00:31<00:00,  4.91it/s]\n",
            "                 Class     Images  Instances      Box(P          R      mAP50  mAP50-95)     Mask(P          R      mAP50  mAP50-95): 100% 23/23 [00:06<00:00,  3.46it/s]\n",
            "                   all        717       1013      0.208      0.311      0.168     0.0865      0.214      0.324      0.178     0.0794\n",
            "\n",
            "      Epoch    GPU_mem   box_loss   seg_loss   cls_loss   dfl_loss  Instances       Size\n",
            "       4/25      1.47G       1.33       2.42       2.09      1.318         36        320: 100% 157/157 [00:31<00:00,  4.94it/s]\n",
            "                 Class     Images  Instances      Box(P          R      mAP50  mAP50-95)     Mask(P          R      mAP50  mAP50-95): 100% 23/23 [00:06<00:00,  3.42it/s]\n",
            "                   all        717       1013      0.223      0.301      0.205      0.106      0.248      0.266      0.198     0.0924\n",
            "\n",
            "      Epoch    GPU_mem   box_loss   seg_loss   cls_loss   dfl_loss  Instances       Size\n",
            "       5/25      1.51G      1.311      2.378      2.021       1.31         36        320: 100% 157/157 [00:31<00:00,  4.96it/s]\n",
            "                 Class     Images  Instances      Box(P          R      mAP50  mAP50-95)     Mask(P          R      mAP50  mAP50-95): 100% 23/23 [00:06<00:00,  3.48it/s]\n",
            "                   all        717       1013      0.257      0.313      0.231      0.133       0.25       0.29      0.215     0.0997\n",
            "\n",
            "      Epoch    GPU_mem   box_loss   seg_loss   cls_loss   dfl_loss  Instances       Size\n",
            "       6/25      1.48G      1.277      2.339      1.945      1.296         40        320: 100% 157/157 [00:31<00:00,  4.99it/s]\n",
            "                 Class     Images  Instances      Box(P          R      mAP50  mAP50-95)     Mask(P          R      mAP50  mAP50-95): 100% 23/23 [00:06<00:00,  3.38it/s]\n",
            "                   all        717       1013      0.407      0.351      0.332      0.202      0.412       0.35       0.33       0.18\n",
            "\n",
            "      Epoch    GPU_mem   box_loss   seg_loss   cls_loss   dfl_loss  Instances       Size\n",
            "       7/25      1.47G      1.225      2.264      1.841      1.265         40        320: 100% 157/157 [00:32<00:00,  4.83it/s]\n",
            "                 Class     Images  Instances      Box(P          R      mAP50  mAP50-95)     Mask(P          R      mAP50  mAP50-95): 100% 23/23 [00:06<00:00,  3.77it/s]\n",
            "                   all        717       1013      0.334      0.453      0.343      0.211      0.312      0.449      0.326      0.179\n",
            "\n",
            "      Epoch    GPU_mem   box_loss   seg_loss   cls_loss   dfl_loss  Instances       Size\n",
            "       8/25      1.52G      1.193      2.204      1.792      1.244         40        320: 100% 157/157 [00:32<00:00,  4.79it/s]\n",
            "                 Class     Images  Instances      Box(P          R      mAP50  mAP50-95)     Mask(P          R      mAP50  mAP50-95): 100% 23/23 [00:06<00:00,  3.83it/s]\n",
            "                   all        717       1013      0.389       0.45      0.412      0.256        0.4      0.416      0.403      0.224\n",
            "\n",
            "      Epoch    GPU_mem   box_loss   seg_loss   cls_loss   dfl_loss  Instances       Size\n",
            "       9/25       1.5G      1.199      2.177      1.774      1.254         44        320: 100% 157/157 [00:32<00:00,  4.80it/s]\n",
            "                 Class     Images  Instances      Box(P          R      mAP50  mAP50-95)     Mask(P          R      mAP50  mAP50-95): 100% 23/23 [00:05<00:00,  3.93it/s]\n",
            "                   all        717       1013      0.383      0.399      0.376      0.228      0.383      0.385      0.368        0.2\n",
            "\n",
            "      Epoch    GPU_mem   box_loss   seg_loss   cls_loss   dfl_loss  Instances       Size\n",
            "      10/25      1.49G      1.136      2.075      1.671      1.216         34        320: 100% 157/157 [00:32<00:00,  4.77it/s]\n",
            "                 Class     Images  Instances      Box(P          R      mAP50  mAP50-95)     Mask(P          R      mAP50  mAP50-95): 100% 23/23 [00:05<00:00,  3.96it/s]\n",
            "                   all        717       1013      0.432      0.484      0.458       0.29      0.429      0.495      0.455      0.252\n",
            "\n",
            "      Epoch    GPU_mem   box_loss   seg_loss   cls_loss   dfl_loss  Instances       Size\n",
            "      11/25      1.47G      1.128      2.071      1.623      1.216         39        320: 100% 157/157 [00:32<00:00,  4.80it/s]\n",
            "                 Class     Images  Instances      Box(P          R      mAP50  mAP50-95)     Mask(P          R      mAP50  mAP50-95): 100% 23/23 [00:05<00:00,  3.92it/s]\n",
            "                   all        717       1013      0.467      0.476      0.457        0.3      0.477      0.477      0.464      0.268\n",
            "\n",
            "      Epoch    GPU_mem   box_loss   seg_loss   cls_loss   dfl_loss  Instances       Size\n",
            "      12/25      1.46G      1.114      2.039      1.591      1.209         34        320: 100% 157/157 [00:32<00:00,  4.86it/s]\n",
            "                 Class     Images  Instances      Box(P          R      mAP50  mAP50-95)     Mask(P          R      mAP50  mAP50-95): 100% 23/23 [00:06<00:00,  3.64it/s]\n",
            "                   all        717       1013       0.52      0.514      0.525      0.345      0.519      0.514      0.517      0.298\n",
            "\n",
            "      Epoch    GPU_mem   box_loss   seg_loss   cls_loss   dfl_loss  Instances       Size\n",
            "      13/25      1.49G      1.085      2.008      1.506      1.197         33        320: 100% 157/157 [00:31<00:00,  4.97it/s]\n",
            "                 Class     Images  Instances      Box(P          R      mAP50  mAP50-95)     Mask(P          R      mAP50  mAP50-95): 100% 23/23 [00:06<00:00,  3.48it/s]\n",
            "                   all        717       1013      0.549      0.497      0.545      0.355       0.55      0.498      0.536      0.314\n",
            "\n",
            "      Epoch    GPU_mem   box_loss   seg_loss   cls_loss   dfl_loss  Instances       Size\n",
            "      14/25      1.49G      1.071      2.027      1.509      1.183         35        320: 100% 157/157 [00:31<00:00,  5.02it/s]\n",
            "                 Class     Images  Instances      Box(P          R      mAP50  mAP50-95)     Mask(P          R      mAP50  mAP50-95): 100% 23/23 [00:06<00:00,  3.43it/s]\n",
            "                   all        717       1013       0.67      0.501      0.583      0.384      0.681      0.495      0.579      0.338\n",
            "\n",
            "      Epoch    GPU_mem   box_loss   seg_loss   cls_loss   dfl_loss  Instances       Size\n",
            "      15/25      1.48G      1.034      1.934      1.431      1.167         51        320: 100% 157/157 [00:31<00:00,  5.01it/s]\n",
            "                 Class     Images  Instances      Box(P          R      mAP50  mAP50-95)     Mask(P          R      mAP50  mAP50-95): 100% 23/23 [00:06<00:00,  3.50it/s]\n",
            "                   all        717       1013      0.629        0.5      0.594      0.385      0.613      0.488      0.572      0.331\n",
            "Closing dataloader mosaic\n",
            "/usr/local/lib/python3.11/dist-packages/ultralytics/data/augment.py:1837: UserWarning: Argument(s) 'quality_lower' are not valid for transform ImageCompression\n",
            "  A.ImageCompression(quality_lower=75, p=0.0),\n",
            "\u001b[34m\u001b[1malbumentations: \u001b[0mBlur(p=0.01, blur_limit=(3, 7)), MedianBlur(p=0.01, blur_limit=(3, 7)), ToGray(p=0.01, method='weighted_average', num_output_channels=3), CLAHE(p=0.01, clip_limit=(1.0, 4.0), tile_grid_size=(8, 8))\n",
            "\n",
            "      Epoch    GPU_mem   box_loss   seg_loss   cls_loss   dfl_loss  Instances       Size\n",
            "      16/25      1.43G      1.052      1.912      1.364      1.191         17        320: 100% 157/157 [00:31<00:00,  5.03it/s]\n",
            "                 Class     Images  Instances      Box(P          R      mAP50  mAP50-95)     Mask(P          R      mAP50  mAP50-95): 100% 23/23 [00:06<00:00,  3.45it/s]\n",
            "                   all        717       1013      0.627      0.578      0.613      0.417       0.62      0.574       0.61      0.356\n",
            "\n",
            "      Epoch    GPU_mem   box_loss   seg_loss   cls_loss   dfl_loss  Instances       Size\n",
            "      17/25      1.46G      1.019      1.834      1.273      1.168         22        320: 100% 157/157 [00:30<00:00,  5.23it/s]\n",
            "                 Class     Images  Instances      Box(P          R      mAP50  mAP50-95)     Mask(P          R      mAP50  mAP50-95): 100% 23/23 [00:06<00:00,  3.44it/s]\n",
            "                   all        717       1013      0.654      0.577      0.649      0.435      0.661      0.576      0.646      0.385\n",
            "\n",
            "      Epoch    GPU_mem   box_loss   seg_loss   cls_loss   dfl_loss  Instances       Size\n",
            "      18/25      1.47G      0.981      1.782      1.173      1.143         20        320: 100% 157/157 [00:30<00:00,  5.18it/s]\n",
            "                 Class     Images  Instances      Box(P          R      mAP50  mAP50-95)     Mask(P          R      mAP50  mAP50-95): 100% 23/23 [00:06<00:00,  3.44it/s]\n",
            "                   all        717       1013      0.716      0.634      0.709       0.49      0.714      0.628      0.703      0.428\n",
            "\n",
            "      Epoch    GPU_mem   box_loss   seg_loss   cls_loss   dfl_loss  Instances       Size\n",
            "      19/25      1.45G     0.9563      1.757      1.088      1.129         17        320: 100% 157/157 [00:30<00:00,  5.16it/s]\n",
            "                 Class     Images  Instances      Box(P          R      mAP50  mAP50-95)     Mask(P          R      mAP50  mAP50-95): 100% 23/23 [00:06<00:00,  3.35it/s]\n",
            "                   all        717       1013      0.726      0.615      0.701      0.484      0.727       0.61      0.695      0.423\n",
            "\n",
            "      Epoch    GPU_mem   box_loss   seg_loss   cls_loss   dfl_loss  Instances       Size\n",
            "      20/25      1.45G     0.9473        1.7      1.036      1.132         17        320: 100% 157/157 [00:30<00:00,  5.19it/s]\n",
            "                 Class     Images  Instances      Box(P          R      mAP50  mAP50-95)     Mask(P          R      mAP50  mAP50-95): 100% 23/23 [00:06<00:00,  3.44it/s]\n",
            "                   all        717       1013      0.732      0.647      0.721      0.497      0.728      0.648      0.719      0.434\n",
            "\n",
            "      Epoch    GPU_mem   box_loss   seg_loss   cls_loss   dfl_loss  Instances       Size\n",
            "      21/25      1.48G     0.9063      1.678     0.9754      1.103         16        320: 100% 157/157 [00:30<00:00,  5.16it/s]\n",
            "                 Class     Images  Instances      Box(P          R      mAP50  mAP50-95)     Mask(P          R      mAP50  mAP50-95): 100% 23/23 [00:06<00:00,  3.43it/s]\n",
            "                   all        717       1013      0.772      0.686      0.765       0.54      0.768      0.684      0.755      0.464\n",
            "\n",
            "      Epoch    GPU_mem   box_loss   seg_loss   cls_loss   dfl_loss  Instances       Size\n",
            "      22/25      1.47G     0.8767      1.625     0.9106      1.091         21        320: 100% 157/157 [00:30<00:00,  5.21it/s]\n",
            "                 Class     Images  Instances      Box(P          R      mAP50  mAP50-95)     Mask(P          R      mAP50  mAP50-95): 100% 23/23 [00:06<00:00,  3.46it/s]\n",
            "                   all        717       1013      0.775      0.712      0.774      0.548      0.768      0.715      0.773      0.478\n",
            "\n",
            "      Epoch    GPU_mem   box_loss   seg_loss   cls_loss   dfl_loss  Instances       Size\n",
            "      23/25      1.47G     0.8451        1.6     0.8612      1.069         16        320: 100% 157/157 [00:30<00:00,  5.23it/s]\n",
            "                 Class     Images  Instances      Box(P          R      mAP50  mAP50-95)     Mask(P          R      mAP50  mAP50-95): 100% 23/23 [00:06<00:00,  3.52it/s]\n",
            "                   all        717       1013      0.824      0.713      0.801      0.567       0.83      0.709      0.796      0.495\n",
            "\n",
            "      Epoch    GPU_mem   box_loss   seg_loss   cls_loss   dfl_loss  Instances       Size\n",
            "      24/25      1.44G     0.8189      1.554     0.8159       1.06         14        320: 100% 157/157 [00:29<00:00,  5.30it/s]\n",
            "                 Class     Images  Instances      Box(P          R      mAP50  mAP50-95)     Mask(P          R      mAP50  mAP50-95): 100% 23/23 [00:06<00:00,  3.57it/s]\n",
            "                   all        717       1013      0.811      0.748      0.814      0.583      0.803      0.741      0.806      0.506\n",
            "\n",
            "      Epoch    GPU_mem   box_loss   seg_loss   cls_loss   dfl_loss  Instances       Size\n",
            "      25/25      1.48G     0.8053      1.522     0.7606      1.051         22        320: 100% 157/157 [00:29<00:00,  5.29it/s]\n",
            "                 Class     Images  Instances      Box(P          R      mAP50  mAP50-95)     Mask(P          R      mAP50  mAP50-95): 100% 23/23 [00:06<00:00,  3.57it/s]\n",
            "                   all        717       1013      0.842      0.729      0.815      0.588      0.839      0.727      0.808      0.508\n",
            "\n",
            "25 epochs completed in 0.274 hours.\n",
            "Optimizer stripped from runs/segment/train/weights/last.pt, 23.8MB\n",
            "Optimizer stripped from runs/segment/train/weights/best.pt, 23.8MB\n",
            "\n",
            "Validating runs/segment/train/weights/best.pt...\n",
            "Ultralytics YOLOv8.2.103 🚀 Python-3.11.12 torch-2.6.0+cu124 CUDA:0 (Tesla T4, 15095MiB)\n",
            "YOLOv8s-seg summary (fused): 195 layers, 11,781,535 parameters, 0 gradients, 42.4 GFLOPs\n",
            "                 Class     Images  Instances      Box(P          R      mAP50  mAP50-95)     Mask(P          R      mAP50  mAP50-95): 100% 23/23 [00:06<00:00,  3.29it/s]\n",
            "                   all        717       1013      0.843       0.73      0.816      0.588      0.838       0.73      0.808      0.508\n",
            "               Class A        128        227      0.837      0.577       0.73       0.48      0.823      0.573      0.693      0.364\n",
            "               Class B        190        237      0.871      0.886      0.912       0.72      0.871       0.89       0.91      0.663\n",
            "               Class C        171        242      0.849       0.72      0.789      0.516      0.864      0.734      0.807      0.433\n",
            "               Class D        115        167      0.826      0.629      0.774      0.537      0.812      0.623      0.764      0.473\n",
            "               Class F        109        140       0.83      0.836      0.874      0.688      0.821      0.829      0.864      0.605\n",
            "Speed: 0.1ms preprocess, 1.8ms inference, 0.0ms loss, 1.4ms postprocess per image\n",
            "Results saved to \u001b[1mruns/segment/train\u001b[0m\n",
            "💡 Learn more at https://docs.ultralytics.com/modes/train\n"
          ]
        }
      ]
    },
    {
      "cell_type": "markdown",
      "source": [
        "Predict images"
      ],
      "metadata": {
        "id": "scXffVH-gsL_"
      }
    },
    {
      "cell_type": "code",
      "source": [
        "!yolo task=segment mode=predict model=runs/segment/train/weights/best.pt source=\"/content/final-fire-dataset-2/test/images/1200px-Burning_wood_jpg.rf.4dfa99ab605afdf48d9f1599056994e3.jpg\""
      ],
      "metadata": {
        "colab": {
          "base_uri": "https://localhost:8080/"
        },
        "id": "NnjTKgyeir5y",
        "outputId": "7d9079ca-6e9d-4594-9f7b-3af331c61f4a"
      },
      "execution_count": null,
      "outputs": [
        {
          "output_type": "stream",
          "name": "stdout",
          "text": [
            "Ultralytics YOLOv8.2.103 🚀 Python-3.11.12 torch-2.6.0+cu124 CUDA:0 (Tesla T4, 15095MiB)\n",
            "YOLOv8s-seg summary (fused): 195 layers, 11,781,535 parameters, 0 gradients, 42.4 GFLOPs\n",
            "\n",
            "image 1/1 /content/final-fire-dataset-2/test/images/1200px-Burning_wood_jpg.rf.4dfa99ab605afdf48d9f1599056994e3.jpg: 320x320 1 Class A, 10.7ms\n",
            "Speed: 1.1ms preprocess, 10.7ms inference, 163.3ms postprocess per image at shape (1, 3, 320, 320)\n",
            "Results saved to \u001b[1mruns/segment/predict\u001b[0m\n",
            "💡 Learn more at https://docs.ultralytics.com/modes/predict\n"
          ]
        }
      ]
    },
    {
      "cell_type": "markdown",
      "source": [
        "Visualize an image"
      ],
      "metadata": {
        "id": "0lLvdU6vgtiA"
      }
    },
    {
      "cell_type": "code",
      "source": [
        "Image(filename='/content/runs/segment/predict/1200px-Burning_wood_jpg.rf.4dfa99ab605afdf48d9f1599056994e3.jpg')"
      ],
      "metadata": {
        "colab": {
          "base_uri": "https://localhost:8080/",
          "height": 337
        },
        "id": "69oya_KEi8D2",
        "outputId": "5f641315-8f6f-46ee-ca72-bce6eeaaa2ab"
      },
      "execution_count": null,
      "outputs": [
        {
          "output_type": "execute_result",
          "data": {
            "image/jpeg": "[encoded data removed]",
            "text/plain": [
              "<IPython.core.display.Image object>"
            ]
          },
          "metadata": {},
          "execution_count": 7
        }
      ]
    },
    {
      "cell_type": "markdown",
      "source": [
        "Save best model for YOLOv8"
      ],
      "metadata": {
        "id": "UTeusgWNgzHB"
      }
    },
    {
      "cell_type": "code",
      "source": [
        "!cp runs/segment/train/weights/best.pt best_yolov8_model_segmentation.pt"
      ],
      "metadata": {
        "id": "TSyn_4CVFItd"
      },
      "execution_count": null,
      "outputs": []
    }
  ]
}